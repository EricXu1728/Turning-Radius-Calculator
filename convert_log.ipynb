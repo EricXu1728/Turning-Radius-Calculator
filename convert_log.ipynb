{
 "cells": [
  {
   "cell_type": "code",
   "execution_count": 5,
   "id": "1269d051",
   "metadata": {},
   "outputs": [
    {
     "name": "stdout",
     "output_type": "stream",
     "text": [
      "Conversion complete! Saved as 'output_file.csv'.\n"
     ]
    }
   ],
   "source": [
    "import pandas as pd\n",
    "\n",
    "FILE_NAME = 'rc_5.log'\n",
    "\n",
    "# Step 1: Read the .log file\n",
    "with open(FILE_NAME, 'r') as file:\n",
    "    lines = file.readlines()\n",
    "\n",
    "# Step 2: Extract the header (columns)\n",
    "header = lines[0].strip().split(',')\n",
    "\n",
    "# Step 3: Extract the actual data (ignoring the first few lines which are header information)\n",
    "data = [line.strip().split(',') for line in lines[2:] if line.strip()]\n",
    "\n",
    "# Step 4: Create a DataFrame\n",
    "df = pd.DataFrame(data, columns=header)\n",
    "\n",
    "# Step 5: Save as CSV\n",
    "NEW_FILE_NAME = FILE_NAME.replace('.log', '.csv')\n",
    "df.to_csv(NEW_FILE_NAME, index=False)\n",
    "\n",
    "print(\"Conversion complete! Saved as 'output_file.csv'.\")\n"
   ]
  }
 ],
 "metadata": {
  "kernelspec": {
   "display_name": "base",
   "language": "python",
   "name": "python3"
  },
  "language_info": {
   "codemirror_mode": {
    "name": "ipython",
    "version": 3
   },
   "file_extension": ".py",
   "mimetype": "text/x-python",
   "name": "python",
   "nbconvert_exporter": "python",
   "pygments_lexer": "ipython3",
   "version": "3.9.13"
  }
 },
 "nbformat": 4,
 "nbformat_minor": 5
}
